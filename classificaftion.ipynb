{
 "cells": [
  {
   "cell_type": "markdown",
   "metadata": {},
   "source": [
    "# Classification Ciel "
   ]
  },
  {
   "cell_type": "markdown",
   "metadata": {},
   "source": [
    "### Lecture image"
   ]
  },
  {
   "cell_type": "code",
   "execution_count": 24,
   "metadata": {},
   "outputs": [],
   "source": [
    "from os import listdir\n",
    "from os.path import isfile, join\n",
    "import matplotlib.pyplot as plt\n",
    "import numpy as np "
   ]
  },
  {
   "cell_type": "code",
   "execution_count": 29,
   "metadata": {},
   "outputs": [],
   "source": [
    "fichier_X_test = [f for f in listdir('Data_store/Test/X_test/') if isfile(join('Data_store/Test/X_test/', f))]\n",
    "fichier_Y_test = [f for f in listdir('Data_store/Test/Y_test/') if isfile(join('Data_store/Test/Y_test/', f))]\n",
    "fichier_X_train = [f for f in listdir('Data_store/Train/X_train/') if isfile(join('Data_store/Train/X_train/', f))]\n",
    "fichier_Y_train = [f for f in listdir('Data_store/Train/Y_train/') if isfile(join('Data_store/Train/Y_train/', f))]"
   ]
  },
  {
   "cell_type": "code",
   "execution_count": 40,
   "metadata": {},
   "outputs": [],
   "source": [
    "X_test = []\n",
    "Y_test = []\n",
    "X_train = []\n",
    "Y_train = []\n",
    "\n",
    "for image in fichier_X_test :\n",
    "    image = plt.imread('Data_store/Test/X_test/'+image)\n",
    "    for i in range(image.shape[0]): \n",
    "        for j in range(image.shape[1]):\n",
    "            X_test.append(image[i][j])\n",
    "X_test = np.array(X_test)\n",
    "\n",
    "for image in fichier_Y_test :\n",
    "    image = plt.imread('Data_store/Test/Y_test/'+image)\n",
    "    for i in range(image.shape[0]): \n",
    "        for j in range(image.shape[1]):\n",
    "            Y_test.append([image[i][j]])\n",
    "Y_test = np.array(Y_test)\n",
    "\n",
    "for image in fichier_X_train :\n",
    "    image = plt.imread('Data_store/Train/X_train/'+image)\n",
    "    for i in range(image.shape[0]): \n",
    "        for j in range(image.shape[1]):\n",
    "            X_train.append(image[i][j])\n",
    "X_train = np.array(X_train)\n",
    "\n",
    "for image in fichier_Y_train :\n",
    "    image = plt.imread('Data_store/Train/Y_train/'+image)\n",
    "    for i in range(image.shape[0]): \n",
    "        for j in range(image.shape[1]):\n",
    "            Y_train.append([image[i][j]])\n",
    "Y_train = np.array(Y_train)"
   ]
  },
  {
   "cell_type": "markdown",
   "metadata": {},
   "source": [
    "### On implémente le "
   ]
  }
 ],
 "metadata": {
  "kernelspec": {
   "display_name": "Python 3.9.13 ('base')",
   "language": "python",
   "name": "python3"
  },
  "language_info": {
   "codemirror_mode": {
    "name": "ipython",
    "version": 3
   },
   "file_extension": ".py",
   "mimetype": "text/x-python",
   "name": "python",
   "nbconvert_exporter": "python",
   "pygments_lexer": "ipython3",
   "version": "3.9.13"
  },
  "orig_nbformat": 4,
  "vscode": {
   "interpreter": {
    "hash": "26fe2c58e6435e82a22f8ce69a2c0e85a92215e383d29544d358eafab2c95d90"
   }
  }
 },
 "nbformat": 4,
 "nbformat_minor": 2
}
